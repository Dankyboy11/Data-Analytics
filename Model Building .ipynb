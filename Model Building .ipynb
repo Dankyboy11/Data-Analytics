{
 "cells": [
  {
   "cell_type": "code",
   "execution_count": 1,
   "id": "5ce920f6",
   "metadata": {},
   "outputs": [],
   "source": [
    "import pandas as pd \n",
    "import numpy as np"
   ]
  },
  {
   "cell_type": "markdown",
   "id": "9897993f",
   "metadata": {},
   "source": [
    "Creating a function to clean and load the dataset "
   ]
  },
  {
   "cell_type": "code",
   "execution_count": 2,
   "id": "4f3a8420",
   "metadata": {},
   "outputs": [],
   "source": [
    "def wrangle(filepath):\n",
    "    \n",
    "    #Reading the data set \n",
    "    df = pd.read_csv(filepath, compression = 'gzip')\n",
    "    \n",
    "    for column in df.columns:\n",
    "        \n",
    "        #Removing the irrelevant columns \n",
    "        if df[column].dtype == 'object':\n",
    "            df.drop(columns = [column], inplace = True)\n",
    "        else:\n",
    "            #cleansing the data set for nan, infinity and large data type\n",
    "            if np.any(np.isnan(df[column])) or np.any(np.isinf(df[column])) or np.any(np.abs(df[column]) > np.finfo(np.float64).max):\n",
    "\n",
    "                #Replace it with median values of that columns\n",
    "                median_value = np.median(df[column][np.isfinite(df[column])])\n",
    "                df[column].replace([np.nan, np.inf, -np.inf], median_value, inplace = True)\n",
    "\n",
    "    return df"
   ]
  },
  {
   "cell_type": "code",
   "execution_count": 3,
   "id": "6ddb614f",
   "metadata": {},
   "outputs": [
    {
     "name": "stdout",
     "output_type": "stream",
     "text": [
      "(181859, 72)\n"
     ]
    },
    {
     "data": {
      "text/html": [
       "<div>\n",
       "<style scoped>\n",
       "    .dataframe tbody tr th:only-of-type {\n",
       "        vertical-align: middle;\n",
       "    }\n",
       "\n",
       "    .dataframe tbody tr th {\n",
       "        vertical-align: top;\n",
       "    }\n",
       "\n",
       "    .dataframe thead th {\n",
       "        text-align: right;\n",
       "    }\n",
       "</style>\n",
       "<table border=\"1\" class=\"dataframe\">\n",
       "  <thead>\n",
       "    <tr style=\"text-align: right;\">\n",
       "      <th></th>\n",
       "      <th>is_exclusive_lead</th>\n",
       "      <th>ns_count_1day</th>\n",
       "      <th>ns_count_3day</th>\n",
       "      <th>ns_count_1week</th>\n",
       "      <th>ns_count_1month</th>\n",
       "      <th>ns_count_6month</th>\n",
       "      <th>responded_lead_1day</th>\n",
       "      <th>responded_lead_3day</th>\n",
       "      <th>responded_lead_1week</th>\n",
       "      <th>responded_lead_1month</th>\n",
       "      <th>...</th>\n",
       "      <th>days_no_block_in_6month</th>\n",
       "      <th>days_block_in_6month</th>\n",
       "      <th>number_times_blocked_in_6month</th>\n",
       "      <th>avg_order_value_1day</th>\n",
       "      <th>avg_order_value_3day</th>\n",
       "      <th>avg_order_value_1week</th>\n",
       "      <th>avg_order_value_1month</th>\n",
       "      <th>avg_order_value_3month</th>\n",
       "      <th>avg_order_value_6month</th>\n",
       "      <th>ns</th>\n",
       "    </tr>\n",
       "  </thead>\n",
       "  <tbody>\n",
       "    <tr>\n",
       "      <th>0</th>\n",
       "      <td>0</td>\n",
       "      <td>0</td>\n",
       "      <td>0</td>\n",
       "      <td>0</td>\n",
       "      <td>1</td>\n",
       "      <td>5</td>\n",
       "      <td>2</td>\n",
       "      <td>6</td>\n",
       "      <td>13</td>\n",
       "      <td>32</td>\n",
       "      <td>...</td>\n",
       "      <td>178</td>\n",
       "      <td>2</td>\n",
       "      <td>1</td>\n",
       "      <td>0.0</td>\n",
       "      <td>157.833333</td>\n",
       "      <td>352.923077</td>\n",
       "      <td>479.406250</td>\n",
       "      <td>399.288660</td>\n",
       "      <td>363.672646</td>\n",
       "      <td>0</td>\n",
       "    </tr>\n",
       "    <tr>\n",
       "      <th>1</th>\n",
       "      <td>0</td>\n",
       "      <td>0</td>\n",
       "      <td>0</td>\n",
       "      <td>0</td>\n",
       "      <td>1</td>\n",
       "      <td>4</td>\n",
       "      <td>2</td>\n",
       "      <td>7</td>\n",
       "      <td>15</td>\n",
       "      <td>66</td>\n",
       "      <td>...</td>\n",
       "      <td>180</td>\n",
       "      <td>0</td>\n",
       "      <td>0</td>\n",
       "      <td>372.0</td>\n",
       "      <td>302.857143</td>\n",
       "      <td>382.400000</td>\n",
       "      <td>421.212121</td>\n",
       "      <td>384.906832</td>\n",
       "      <td>347.167742</td>\n",
       "      <td>0</td>\n",
       "    </tr>\n",
       "    <tr>\n",
       "      <th>2</th>\n",
       "      <td>0</td>\n",
       "      <td>0</td>\n",
       "      <td>0</td>\n",
       "      <td>1</td>\n",
       "      <td>1</td>\n",
       "      <td>1</td>\n",
       "      <td>3</td>\n",
       "      <td>5</td>\n",
       "      <td>10</td>\n",
       "      <td>35</td>\n",
       "      <td>...</td>\n",
       "      <td>180</td>\n",
       "      <td>0</td>\n",
       "      <td>0</td>\n",
       "      <td>249.0</td>\n",
       "      <td>149.400000</td>\n",
       "      <td>411.800000</td>\n",
       "      <td>339.971429</td>\n",
       "      <td>273.268041</td>\n",
       "      <td>225.731132</td>\n",
       "      <td>0</td>\n",
       "    </tr>\n",
       "    <tr>\n",
       "      <th>3</th>\n",
       "      <td>0</td>\n",
       "      <td>0</td>\n",
       "      <td>0</td>\n",
       "      <td>0</td>\n",
       "      <td>1</td>\n",
       "      <td>19</td>\n",
       "      <td>2</td>\n",
       "      <td>7</td>\n",
       "      <td>22</td>\n",
       "      <td>76</td>\n",
       "      <td>...</td>\n",
       "      <td>179</td>\n",
       "      <td>0</td>\n",
       "      <td>0</td>\n",
       "      <td>0.0</td>\n",
       "      <td>406.285714</td>\n",
       "      <td>255.181818</td>\n",
       "      <td>342.552632</td>\n",
       "      <td>422.446512</td>\n",
       "      <td>386.900000</td>\n",
       "      <td>0</td>\n",
       "    </tr>\n",
       "    <tr>\n",
       "      <th>4</th>\n",
       "      <td>0</td>\n",
       "      <td>0</td>\n",
       "      <td>0</td>\n",
       "      <td>0</td>\n",
       "      <td>0</td>\n",
       "      <td>1</td>\n",
       "      <td>2</td>\n",
       "      <td>7</td>\n",
       "      <td>20</td>\n",
       "      <td>89</td>\n",
       "      <td>...</td>\n",
       "      <td>180</td>\n",
       "      <td>0</td>\n",
       "      <td>0</td>\n",
       "      <td>114.5</td>\n",
       "      <td>162.428571</td>\n",
       "      <td>183.400000</td>\n",
       "      <td>186.033708</td>\n",
       "      <td>162.231034</td>\n",
       "      <td>169.665428</td>\n",
       "      <td>1</td>\n",
       "    </tr>\n",
       "  </tbody>\n",
       "</table>\n",
       "<p>5 rows × 72 columns</p>\n",
       "</div>"
      ],
      "text/plain": [
       "   is_exclusive_lead  ns_count_1day  ns_count_3day  ns_count_1week  \\\n",
       "0                  0              0              0               0   \n",
       "1                  0              0              0               0   \n",
       "2                  0              0              0               1   \n",
       "3                  0              0              0               0   \n",
       "4                  0              0              0               0   \n",
       "\n",
       "   ns_count_1month  ns_count_6month  responded_lead_1day  responded_lead_3day  \\\n",
       "0                1                5                    2                    6   \n",
       "1                1                4                    2                    7   \n",
       "2                1                1                    3                    5   \n",
       "3                1               19                    2                    7   \n",
       "4                0                1                    2                    7   \n",
       "\n",
       "   responded_lead_1week  responded_lead_1month  ...  days_no_block_in_6month  \\\n",
       "0                    13                     32  ...                      178   \n",
       "1                    15                     66  ...                      180   \n",
       "2                    10                     35  ...                      180   \n",
       "3                    22                     76  ...                      179   \n",
       "4                    20                     89  ...                      180   \n",
       "\n",
       "   days_block_in_6month  number_times_blocked_in_6month  avg_order_value_1day  \\\n",
       "0                     2                               1                   0.0   \n",
       "1                     0                               0                 372.0   \n",
       "2                     0                               0                 249.0   \n",
       "3                     0                               0                   0.0   \n",
       "4                     0                               0                 114.5   \n",
       "\n",
       "   avg_order_value_3day  avg_order_value_1week  avg_order_value_1month  \\\n",
       "0            157.833333             352.923077              479.406250   \n",
       "1            302.857143             382.400000              421.212121   \n",
       "2            149.400000             411.800000              339.971429   \n",
       "3            406.285714             255.181818              342.552632   \n",
       "4            162.428571             183.400000              186.033708   \n",
       "\n",
       "   avg_order_value_3month  avg_order_value_6month  ns  \n",
       "0              399.288660              363.672646   0  \n",
       "1              384.906832              347.167742   0  \n",
       "2              273.268041              225.731132   0  \n",
       "3              422.446512              386.900000   0  \n",
       "4              162.231034              169.665428   1  \n",
       "\n",
       "[5 rows x 72 columns]"
      ]
     },
     "execution_count": 3,
     "metadata": {},
     "output_type": "execute_result"
    }
   ],
   "source": [
    "df = wrangle('C:/Users/akwar/Downloads/data_assignment.gz')\n",
    "print(df.shape)\n",
    "df.head()"
   ]
  },
  {
   "cell_type": "markdown",
   "id": "f61867c2",
   "metadata": {},
   "source": [
    "# Split"
   ]
  },
  {
   "cell_type": "code",
   "execution_count": 4,
   "id": "a6983195",
   "metadata": {},
   "outputs": [
    {
     "name": "stdout",
     "output_type": "stream",
     "text": [
      "X shape: (181859, 71)\n",
      "Y shape: (181859,)\n"
     ]
    }
   ],
   "source": [
    "#Creating Feature matrix \n",
    "target = 'ns'\n",
    "y = df[target]\n",
    "X = df.drop(columns = target)\n",
    "\n",
    "print(\"X shape:\", X.shape)\n",
    "print(\"Y shape:\", y.shape)"
   ]
  },
  {
   "cell_type": "markdown",
   "id": "b7c2ea7a",
   "metadata": {},
   "source": [
    "Diving the data set into training and testing "
   ]
  },
  {
   "cell_type": "code",
   "execution_count": 5,
   "id": "e37a02de",
   "metadata": {},
   "outputs": [
    {
     "name": "stdout",
     "output_type": "stream",
     "text": [
      "X_train: (145487, 71)\n",
      "y_train: (145487,)\n",
      "X_test: (36372, 71)\n",
      "y_test: (36372,)\n"
     ]
    }
   ],
   "source": [
    "from sklearn.model_selection import train_test_split, cross_val_score, GridSearchCV\n",
    "\n",
    "X_train, X_test, y_train, y_test = train_test_split(\n",
    "    X,y, test_size = 0.2, random_state = 42\n",
    ")\n",
    "\n",
    "print(\"X_train:\", X_train.shape)\n",
    "print(\"y_train:\", y_train.shape)\n",
    "print(\"X_test:\", X_test.shape)\n",
    "print(\"y_test:\", y_test.shape)"
   ]
  },
  {
   "cell_type": "markdown",
   "id": "78092d88",
   "metadata": {},
   "source": [
    "Resampling the data with over sampling due to imbalance dataset "
   ]
  },
  {
   "cell_type": "code",
   "execution_count": 6,
   "id": "589d5283",
   "metadata": {},
   "outputs": [
    {
     "name": "stdout",
     "output_type": "stream",
     "text": [
      "X_train_over shape: (282084, 71)\n"
     ]
    },
    {
     "data": {
      "text/html": [
       "<div>\n",
       "<style scoped>\n",
       "    .dataframe tbody tr th:only-of-type {\n",
       "        vertical-align: middle;\n",
       "    }\n",
       "\n",
       "    .dataframe tbody tr th {\n",
       "        vertical-align: top;\n",
       "    }\n",
       "\n",
       "    .dataframe thead th {\n",
       "        text-align: right;\n",
       "    }\n",
       "</style>\n",
       "<table border=\"1\" class=\"dataframe\">\n",
       "  <thead>\n",
       "    <tr style=\"text-align: right;\">\n",
       "      <th></th>\n",
       "      <th>is_exclusive_lead</th>\n",
       "      <th>ns_count_1day</th>\n",
       "      <th>ns_count_3day</th>\n",
       "      <th>ns_count_1week</th>\n",
       "      <th>ns_count_1month</th>\n",
       "      <th>ns_count_6month</th>\n",
       "      <th>responded_lead_1day</th>\n",
       "      <th>responded_lead_3day</th>\n",
       "      <th>responded_lead_1week</th>\n",
       "      <th>responded_lead_1month</th>\n",
       "      <th>...</th>\n",
       "      <th>number_times_blocked_in_3month</th>\n",
       "      <th>days_no_block_in_6month</th>\n",
       "      <th>days_block_in_6month</th>\n",
       "      <th>number_times_blocked_in_6month</th>\n",
       "      <th>avg_order_value_1day</th>\n",
       "      <th>avg_order_value_3day</th>\n",
       "      <th>avg_order_value_1week</th>\n",
       "      <th>avg_order_value_1month</th>\n",
       "      <th>avg_order_value_3month</th>\n",
       "      <th>avg_order_value_6month</th>\n",
       "    </tr>\n",
       "  </thead>\n",
       "  <tbody>\n",
       "    <tr>\n",
       "      <th>0</th>\n",
       "      <td>1</td>\n",
       "      <td>1</td>\n",
       "      <td>1</td>\n",
       "      <td>1</td>\n",
       "      <td>2</td>\n",
       "      <td>6</td>\n",
       "      <td>5</td>\n",
       "      <td>13</td>\n",
       "      <td>21</td>\n",
       "      <td>53</td>\n",
       "      <td>...</td>\n",
       "      <td>0</td>\n",
       "      <td>151</td>\n",
       "      <td>0</td>\n",
       "      <td>0</td>\n",
       "      <td>1016.800000</td>\n",
       "      <td>651.538462</td>\n",
       "      <td>528.047619</td>\n",
       "      <td>591.622641</td>\n",
       "      <td>588.240437</td>\n",
       "      <td>620.026578</td>\n",
       "    </tr>\n",
       "    <tr>\n",
       "      <th>1</th>\n",
       "      <td>0</td>\n",
       "      <td>0</td>\n",
       "      <td>0</td>\n",
       "      <td>0</td>\n",
       "      <td>2</td>\n",
       "      <td>6</td>\n",
       "      <td>9</td>\n",
       "      <td>14</td>\n",
       "      <td>20</td>\n",
       "      <td>102</td>\n",
       "      <td>...</td>\n",
       "      <td>1</td>\n",
       "      <td>165</td>\n",
       "      <td>15</td>\n",
       "      <td>2</td>\n",
       "      <td>210.444444</td>\n",
       "      <td>190.785714</td>\n",
       "      <td>151.500000</td>\n",
       "      <td>160.107843</td>\n",
       "      <td>128.382927</td>\n",
       "      <td>116.710127</td>\n",
       "    </tr>\n",
       "    <tr>\n",
       "      <th>2</th>\n",
       "      <td>0</td>\n",
       "      <td>0</td>\n",
       "      <td>0</td>\n",
       "      <td>0</td>\n",
       "      <td>0</td>\n",
       "      <td>0</td>\n",
       "      <td>4</td>\n",
       "      <td>7</td>\n",
       "      <td>17</td>\n",
       "      <td>97</td>\n",
       "      <td>...</td>\n",
       "      <td>0</td>\n",
       "      <td>180</td>\n",
       "      <td>0</td>\n",
       "      <td>0</td>\n",
       "      <td>112.250000</td>\n",
       "      <td>202.142857</td>\n",
       "      <td>182.352941</td>\n",
       "      <td>208.824742</td>\n",
       "      <td>177.941176</td>\n",
       "      <td>174.418142</td>\n",
       "    </tr>\n",
       "    <tr>\n",
       "      <th>3</th>\n",
       "      <td>1</td>\n",
       "      <td>0</td>\n",
       "      <td>1</td>\n",
       "      <td>1</td>\n",
       "      <td>1</td>\n",
       "      <td>1</td>\n",
       "      <td>5</td>\n",
       "      <td>8</td>\n",
       "      <td>8</td>\n",
       "      <td>62</td>\n",
       "      <td>...</td>\n",
       "      <td>0</td>\n",
       "      <td>59</td>\n",
       "      <td>0</td>\n",
       "      <td>0</td>\n",
       "      <td>629.800000</td>\n",
       "      <td>618.000000</td>\n",
       "      <td>618.000000</td>\n",
       "      <td>726.870968</td>\n",
       "      <td>577.704403</td>\n",
       "      <td>577.704403</td>\n",
       "    </tr>\n",
       "    <tr>\n",
       "      <th>4</th>\n",
       "      <td>1</td>\n",
       "      <td>0</td>\n",
       "      <td>0</td>\n",
       "      <td>0</td>\n",
       "      <td>0</td>\n",
       "      <td>9</td>\n",
       "      <td>4</td>\n",
       "      <td>8</td>\n",
       "      <td>16</td>\n",
       "      <td>42</td>\n",
       "      <td>...</td>\n",
       "      <td>2</td>\n",
       "      <td>138</td>\n",
       "      <td>4</td>\n",
       "      <td>3</td>\n",
       "      <td>231.750000</td>\n",
       "      <td>260.375000</td>\n",
       "      <td>304.312500</td>\n",
       "      <td>387.595238</td>\n",
       "      <td>388.731092</td>\n",
       "      <td>359.558685</td>\n",
       "    </tr>\n",
       "  </tbody>\n",
       "</table>\n",
       "<p>5 rows × 71 columns</p>\n",
       "</div>"
      ],
      "text/plain": [
       "   is_exclusive_lead  ns_count_1day  ns_count_3day  ns_count_1week  \\\n",
       "0                  1              1              1               1   \n",
       "1                  0              0              0               0   \n",
       "2                  0              0              0               0   \n",
       "3                  1              0              1               1   \n",
       "4                  1              0              0               0   \n",
       "\n",
       "   ns_count_1month  ns_count_6month  responded_lead_1day  responded_lead_3day  \\\n",
       "0                2                6                    5                   13   \n",
       "1                2                6                    9                   14   \n",
       "2                0                0                    4                    7   \n",
       "3                1                1                    5                    8   \n",
       "4                0                9                    4                    8   \n",
       "\n",
       "   responded_lead_1week  responded_lead_1month  ...  \\\n",
       "0                    21                     53  ...   \n",
       "1                    20                    102  ...   \n",
       "2                    17                     97  ...   \n",
       "3                     8                     62  ...   \n",
       "4                    16                     42  ...   \n",
       "\n",
       "   number_times_blocked_in_3month  days_no_block_in_6month  \\\n",
       "0                               0                      151   \n",
       "1                               1                      165   \n",
       "2                               0                      180   \n",
       "3                               0                       59   \n",
       "4                               2                      138   \n",
       "\n",
       "   days_block_in_6month  number_times_blocked_in_6month  avg_order_value_1day  \\\n",
       "0                     0                               0           1016.800000   \n",
       "1                    15                               2            210.444444   \n",
       "2                     0                               0            112.250000   \n",
       "3                     0                               0            629.800000   \n",
       "4                     4                               3            231.750000   \n",
       "\n",
       "   avg_order_value_3day  avg_order_value_1week  avg_order_value_1month  \\\n",
       "0            651.538462             528.047619              591.622641   \n",
       "1            190.785714             151.500000              160.107843   \n",
       "2            202.142857             182.352941              208.824742   \n",
       "3            618.000000             618.000000              726.870968   \n",
       "4            260.375000             304.312500              387.595238   \n",
       "\n",
       "   avg_order_value_3month  avg_order_value_6month  \n",
       "0              588.240437              620.026578  \n",
       "1              128.382927              116.710127  \n",
       "2              177.941176              174.418142  \n",
       "3              577.704403              577.704403  \n",
       "4              388.731092              359.558685  \n",
       "\n",
       "[5 rows x 71 columns]"
      ]
     },
     "execution_count": 6,
     "metadata": {},
     "output_type": "execute_result"
    }
   ],
   "source": [
    "from imblearn.over_sampling import RandomOverSampler\n",
    "\n",
    "over_sampler = RandomOverSampler(random_state = 42)\n",
    "X_train_over, y_train_over = over_sampler.fit_resample(X_train, y_train)\n",
    "print(\"X_train_over shape:\", X_train_over.shape)\n",
    "X_train_over.head()"
   ]
  },
  {
   "cell_type": "markdown",
   "id": "5e5cb2f0",
   "metadata": {},
   "source": [
    "As we can see from the above that the size of the dataset has increased due to resampling"
   ]
  },
  {
   "cell_type": "markdown",
   "id": "a2d15b5a",
   "metadata": {},
   "source": [
    "# Model Building"
   ]
  },
  {
   "cell_type": "code",
   "execution_count": 7,
   "id": "2fbd3dd8",
   "metadata": {},
   "outputs": [
    {
     "name": "stdout",
     "output_type": "stream",
     "text": [
      "Baseline Accuracy: 0.9694\n"
     ]
    }
   ],
   "source": [
    "acc_baseline = y_train.value_counts(normalize = True).max()\n",
    "print(\"Baseline Accuracy:\", round(acc_baseline, 4))"
   ]
  },
  {
   "cell_type": "markdown",
   "id": "0d6f8c9f",
   "metadata": {},
   "source": [
    "Decision Tree Classifier"
   ]
  },
  {
   "cell_type": "code",
   "execution_count": 8,
   "id": "a5045d47",
   "metadata": {},
   "outputs": [
    {
     "name": "stdout",
     "output_type": "stream",
     "text": [
      "Decision tree has 14511 nodes with maximum depth 57.\n"
     ]
    }
   ],
   "source": [
    "from sklearn.tree import DecisionTreeClassifier\n",
    "\n",
    "tree = DecisionTreeClassifier()\n",
    "\n",
    "tree.fit(X_train_over, y_train_over)\n",
    "print(f\"Decision tree has {tree.tree_.node_count} nodes with maximum depth {tree.tree_.max_depth}.\")"
   ]
  },
  {
   "cell_type": "code",
   "execution_count": 9,
   "id": "4b2b9a69",
   "metadata": {},
   "outputs": [],
   "source": [
    "#Probability Prediction \n",
    "train_probs = tree.predict_proba(X_train_over)[:, -1]\n",
    "probs = tree.predict_proba(X_test)[:, -1]\n",
    "\n",
    "train_predictions = tree.predict(X_train_over)\n",
    "predictions = tree.predict(X_test)"
   ]
  },
  {
   "cell_type": "code",
   "execution_count": 10,
   "id": "2ff6d82d",
   "metadata": {},
   "outputs": [
    {
     "name": "stdout",
     "output_type": "stream",
     "text": [
      " Train ROC AUC Score: 0.973526790623741\n",
      "Test ROC AUC Score: 0.541677085846625\n"
     ]
    }
   ],
   "source": [
    "from sklearn.metrics import precision_score, recall_score, roc_auc_score, roc_curve\n",
    "\n",
    "print(f\" Train ROC AUC Score: {roc_auc_score(y_train_over, train_probs)}\")\n",
    "print(f\"Test ROC AUC Score: {roc_auc_score(y_test, probs)}\")"
   ]
  },
  {
   "cell_type": "code",
   "execution_count": 11,
   "id": "61129535",
   "metadata": {},
   "outputs": [],
   "source": [
    "from sklearn.metrics import ConfusionMatrixDisplay, classification_report, confusion_matrix\n"
   ]
  },
  {
   "cell_type": "code",
   "execution_count": 12,
   "id": "140b77b8",
   "metadata": {},
   "outputs": [
    {
     "data": {
      "image/png": "[encoded data removed]",
      "text/plain": [
       "<Figure size 640x480 with 2 Axes>"
      ]
     },
     "metadata": {},
     "output_type": "display_data"
    }
   ],
   "source": [
    "ConfusionMatrixDisplay.from_estimator(tree, X_test, y_test);"
   ]
  },
  {
   "cell_type": "code",
   "execution_count": 13,
   "id": "92ac5a78",
   "metadata": {},
   "outputs": [
    {
     "name": "stdout",
     "output_type": "stream",
     "text": [
      "              precision    recall  f1-score   support\n",
      "\n",
      "           0       0.97      0.88      0.93     35208\n",
      "           1       0.05      0.19      0.08      1164\n",
      "\n",
      "    accuracy                           0.86     36372\n",
      "   macro avg       0.51      0.54      0.50     36372\n",
      "weighted avg       0.94      0.86      0.90     36372\n",
      "\n"
     ]
    }
   ],
   "source": [
    "class_report = classification_report(y_test, tree.predict(X_test))\n",
    "print(class_report)"
   ]
  },
  {
   "cell_type": "markdown",
   "id": "e3450e7f",
   "metadata": {},
   "source": [
    "Random Forest Classifier"
   ]
  },
  {
   "cell_type": "code",
   "execution_count": 14,
   "id": "19fbbb34",
   "metadata": {},
   "outputs": [],
   "source": [
    "from sklearn.ensemble import RandomForestClassifier\n",
    "from sklearn.impute import SimpleImputer\n",
    "from sklearn.pipeline import make_pipeline\n",
    "\n",
    "clf = make_pipeline(\n",
    "    \n",
    "    SimpleImputer(), RandomForestClassifier(random_state = 42)\n",
    ")"
   ]
  },
  {
   "cell_type": "markdown",
   "id": "e58db0f4",
   "metadata": {},
   "source": [
    "Performing cross validation with classifier using over_sampled training data. "
   ]
  },
  {
   "cell_type": "code",
   "execution_count": 15,
   "id": "c78ec833",
   "metadata": {},
   "outputs": [
    {
     "name": "stdout",
     "output_type": "stream",
     "text": [
      "[0.9424996  0.94322633 0.94239325 0.94427212 0.94279991]\n"
     ]
    }
   ],
   "source": [
    "cv_scores = cross_val_score(clf, X_train_over, y_train_over, cv = 5, n_jobs =1)\n",
    "print(cv_scores)"
   ]
  },
  {
   "cell_type": "code",
   "execution_count": 16,
   "id": "e4447cb0",
   "metadata": {},
   "outputs": [],
   "source": [
    "#Creating a dictionary for range for hyper parameters. \n",
    "params = {\n",
    "    \"simpleimputer__strategy\": ['mean', 'median'],\n",
    "    \"randomforestclassifier__n_estimators\": range(25,100,25),\n",
    "    \"randomforestclassifier__max_depth\": range(10,50,10)\n",
    "}"
   ]
  },
  {
   "cell_type": "markdown",
   "id": "bb09c853",
   "metadata": {},
   "source": [
    "Creating a GridSeachCV that includes classifier and hyperparameter grid."
   ]
  },
  {
   "cell_type": "code",
   "execution_count": 17,
   "id": "66e8081a",
   "metadata": {},
   "outputs": [],
   "source": [
    "model = GridSearchCV(\n",
    "    clf, param_grid = params, cv =5, n_jobs =-1, verbose = 1\n",
    ")"
   ]
  },
  {
   "cell_type": "code",
   "execution_count": 18,
   "id": "5b7fe938",
   "metadata": {},
   "outputs": [
    {
     "name": "stdout",
     "output_type": "stream",
     "text": [
      "Fitting 5 folds for each of 24 candidates, totalling 120 fits\n"
     ]
    },
    {
     "data": {
      "text/html": [
       "<style>#sk-container-id-1 {color: black;background-color: white;}#sk-container-id-1 pre{padding: 0;}#sk-container-id-1 div.sk-toggleable {background-color: white;}#sk-container-id-1 label.sk-toggleable__label {cursor: pointer;display: block;width: 100%;margin-bottom: 0;padding: 0.3em;box-sizing: border-box;text-align: center;}#sk-container-id-1 label.sk-toggleable__label-arrow:before {content: \"▸\";float: left;margin-right: 0.25em;color: #696969;}#sk-container-id-1 label.sk-toggleable__label-arrow:hover:before {color: black;}#sk-container-id-1 div.sk-estimator:hover label.sk-toggleable__label-arrow:before {color: black;}#sk-container-id-1 div.sk-toggleable__content {max-height: 0;max-width: 0;overflow: hidden;text-align: left;background-color: #f0f8ff;}#sk-container-id-1 div.sk-toggleable__content pre {margin: 0.2em;color: black;border-radius: 0.25em;background-color: #f0f8ff;}#sk-container-id-1 input.sk-toggleable__control:checked~div.sk-toggleable__content {max-height: 200px;max-width: 100%;overflow: auto;}#sk-container-id-1 input.sk-toggleable__control:checked~label.sk-toggleable__label-arrow:before {content: \"▾\";}#sk-container-id-1 div.sk-estimator input.sk-toggleable__control:checked~label.sk-toggleable__label {background-color: #d4ebff;}#sk-container-id-1 div.sk-label input.sk-toggleable__control:checked~label.sk-toggleable__label {background-color: #d4ebff;}#sk-container-id-1 input.sk-hidden--visually {border: 0;clip: rect(1px 1px 1px 1px);clip: rect(1px, 1px, 1px, 1px);height: 1px;margin: -1px;overflow: hidden;padding: 0;position: absolute;width: 1px;}#sk-container-id-1 div.sk-estimator {font-family: monospace;background-color: #f0f8ff;border: 1px dotted black;border-radius: 0.25em;box-sizing: border-box;margin-bottom: 0.5em;}#sk-container-id-1 div.sk-estimator:hover {background-color: #d4ebff;}#sk-container-id-1 div.sk-parallel-item::after {content: \"\";width: 100%;border-bottom: 1px solid gray;flex-grow: 1;}#sk-container-id-1 div.sk-label:hover label.sk-toggleable__label {background-color: #d4ebff;}#sk-container-id-1 div.sk-serial::before {content: \"\";position: absolute;border-left: 1px solid gray;box-sizing: border-box;top: 0;bottom: 0;left: 50%;z-index: 0;}#sk-container-id-1 div.sk-serial {display: flex;flex-direction: column;align-items: center;background-color: white;padding-right: 0.2em;padding-left: 0.2em;position: relative;}#sk-container-id-1 div.sk-item {position: relative;z-index: 1;}#sk-container-id-1 div.sk-parallel {display: flex;align-items: stretch;justify-content: center;background-color: white;position: relative;}#sk-container-id-1 div.sk-item::before, #sk-container-id-1 div.sk-parallel-item::before {content: \"\";position: absolute;border-left: 1px solid gray;box-sizing: border-box;top: 0;bottom: 0;left: 50%;z-index: -1;}#sk-container-id-1 div.sk-parallel-item {display: flex;flex-direction: column;z-index: 1;position: relative;background-color: white;}#sk-container-id-1 div.sk-parallel-item:first-child::after {align-self: flex-end;width: 50%;}#sk-container-id-1 div.sk-parallel-item:last-child::after {align-self: flex-start;width: 50%;}#sk-container-id-1 div.sk-parallel-item:only-child::after {width: 0;}#sk-container-id-1 div.sk-dashed-wrapped {border: 1px dashed gray;margin: 0 0.4em 0.5em 0.4em;box-sizing: border-box;padding-bottom: 0.4em;background-color: white;}#sk-container-id-1 div.sk-label label {font-family: monospace;font-weight: bold;display: inline-block;line-height: 1.2em;}#sk-container-id-1 div.sk-label-container {text-align: center;}#sk-container-id-1 div.sk-container {/* jupyter's `normalize.less` sets `[hidden] { display: none; }` but bootstrap.min.css set `[hidden] { display: none !important; }` so we also need the `!important` here to be able to override the default hidden behavior on the sphinx rendered scikit-learn.org. See: https://github.com/scikit-learn/scikit-learn/issues/21755 */display: inline-block !important;position: relative;}#sk-container-id-1 div.sk-text-repr-fallback {display: none;}</style><div id=\"sk-container-id-1\" class=\"sk-top-container\"><div class=\"sk-text-repr-fallback\"><pre>GridSearchCV(cv=5,\n",
       "             estimator=Pipeline(steps=[(&#x27;simpleimputer&#x27;, SimpleImputer()),\n",
       "                                       (&#x27;randomforestclassifier&#x27;,\n",
       "                                        RandomForestClassifier(random_state=42))]),\n",
       "             n_jobs=-1,\n",
       "             param_grid={&#x27;randomforestclassifier__max_depth&#x27;: range(10, 50, 10),\n",
       "                         &#x27;randomforestclassifier__n_estimators&#x27;: range(25, 100, 25),\n",
       "                         &#x27;simpleimputer__strategy&#x27;: [&#x27;mean&#x27;, &#x27;median&#x27;]},\n",
       "             verbose=1)</pre><b>In a Jupyter environment, please rerun this cell to show the HTML representation or trust the notebook. <br />On GitHub, the HTML representation is unable to render, please try loading this page with nbviewer.org.</b></div><div class=\"sk-container\" hidden><div class=\"sk-item sk-dashed-wrapped\"><div class=\"sk-label-container\"><div class=\"sk-label sk-toggleable\"><input class=\"sk-toggleable__control sk-hidden--visually\" id=\"sk-estimator-id-1\" type=\"checkbox\" ><label for=\"sk-estimator-id-1\" class=\"sk-toggleable__label sk-toggleable__label-arrow\">GridSearchCV</label><div class=\"sk-toggleable__content\"><pre>GridSearchCV(cv=5,\n",
       "             estimator=Pipeline(steps=[(&#x27;simpleimputer&#x27;, SimpleImputer()),\n",
       "                                       (&#x27;randomforestclassifier&#x27;,\n",
       "                                        RandomForestClassifier(random_state=42))]),\n",
       "             n_jobs=-1,\n",
       "             param_grid={&#x27;randomforestclassifier__max_depth&#x27;: range(10, 50, 10),\n",
       "                         &#x27;randomforestclassifier__n_estimators&#x27;: range(25, 100, 25),\n",
       "                         &#x27;simpleimputer__strategy&#x27;: [&#x27;mean&#x27;, &#x27;median&#x27;]},\n",
       "             verbose=1)</pre></div></div></div><div class=\"sk-parallel\"><div class=\"sk-parallel-item\"><div class=\"sk-item\"><div class=\"sk-label-container\"><div class=\"sk-label sk-toggleable\"><input class=\"sk-toggleable__control sk-hidden--visually\" id=\"sk-estimator-id-2\" type=\"checkbox\" ><label for=\"sk-estimator-id-2\" class=\"sk-toggleable__label sk-toggleable__label-arrow\">estimator: Pipeline</label><div class=\"sk-toggleable__content\"><pre>Pipeline(steps=[(&#x27;simpleimputer&#x27;, SimpleImputer()),\n",
       "                (&#x27;randomforestclassifier&#x27;,\n",
       "                 RandomForestClassifier(random_state=42))])</pre></div></div></div><div class=\"sk-serial\"><div class=\"sk-item\"><div class=\"sk-serial\"><div class=\"sk-item\"><div class=\"sk-estimator sk-toggleable\"><input class=\"sk-toggleable__control sk-hidden--visually\" id=\"sk-estimator-id-3\" type=\"checkbox\" ><label for=\"sk-estimator-id-3\" class=\"sk-toggleable__label sk-toggleable__label-arrow\">SimpleImputer</label><div class=\"sk-toggleable__content\"><pre>SimpleImputer()</pre></div></div></div><div class=\"sk-item\"><div class=\"sk-estimator sk-toggleable\"><input class=\"sk-toggleable__control sk-hidden--visually\" id=\"sk-estimator-id-4\" type=\"checkbox\" ><label for=\"sk-estimator-id-4\" class=\"sk-toggleable__label sk-toggleable__label-arrow\">RandomForestClassifier</label><div class=\"sk-toggleable__content\"><pre>RandomForestClassifier(random_state=42)</pre></div></div></div></div></div></div></div></div></div></div></div></div>"
      ],
      "text/plain": [
       "GridSearchCV(cv=5,\n",
       "             estimator=Pipeline(steps=[('simpleimputer', SimpleImputer()),\n",
       "                                       ('randomforestclassifier',\n",
       "                                        RandomForestClassifier(random_state=42))]),\n",
       "             n_jobs=-1,\n",
       "             param_grid={'randomforestclassifier__max_depth': range(10, 50, 10),\n",
       "                         'randomforestclassifier__n_estimators': range(25, 100, 25),\n",
       "                         'simpleimputer__strategy': ['mean', 'median']},\n",
       "             verbose=1)"
      ]
     },
     "execution_count": 18,
     "metadata": {},
     "output_type": "execute_result"
    }
   ],
   "source": [
    "model.fit(X_train_over, y_train_over)"
   ]
  },
  {
   "cell_type": "code",
   "execution_count": 19,
   "id": "53733e01",
   "metadata": {},
   "outputs": [
    {
     "data": {
      "text/html": [
       "<div>\n",
       "<style scoped>\n",
       "    .dataframe tbody tr th:only-of-type {\n",
       "        vertical-align: middle;\n",
       "    }\n",
       "\n",
       "    .dataframe tbody tr th {\n",
       "        vertical-align: top;\n",
       "    }\n",
       "\n",
       "    .dataframe thead th {\n",
       "        text-align: right;\n",
       "    }\n",
       "</style>\n",
       "<table border=\"1\" class=\"dataframe\">\n",
       "  <thead>\n",
       "    <tr style=\"text-align: right;\">\n",
       "      <th></th>\n",
       "      <th>mean_fit_time</th>\n",
       "      <th>std_fit_time</th>\n",
       "      <th>mean_score_time</th>\n",
       "      <th>std_score_time</th>\n",
       "      <th>param_randomforestclassifier__max_depth</th>\n",
       "      <th>param_randomforestclassifier__n_estimators</th>\n",
       "      <th>param_simpleimputer__strategy</th>\n",
       "      <th>params</th>\n",
       "      <th>split0_test_score</th>\n",
       "      <th>split1_test_score</th>\n",
       "      <th>split2_test_score</th>\n",
       "      <th>split3_test_score</th>\n",
       "      <th>split4_test_score</th>\n",
       "      <th>mean_test_score</th>\n",
       "      <th>std_test_score</th>\n",
       "      <th>rank_test_score</th>\n",
       "    </tr>\n",
       "  </thead>\n",
       "  <tbody>\n",
       "    <tr>\n",
       "      <th>0</th>\n",
       "      <td>188.543082</td>\n",
       "      <td>2.053636</td>\n",
       "      <td>3.985480</td>\n",
       "      <td>0.647190</td>\n",
       "      <td>10</td>\n",
       "      <td>25</td>\n",
       "      <td>mean</td>\n",
       "      <td>{'randomforestclassifier__max_depth': 10, 'ran...</td>\n",
       "      <td>0.782796</td>\n",
       "      <td>0.787032</td>\n",
       "      <td>0.790400</td>\n",
       "      <td>0.785100</td>\n",
       "      <td>0.779938</td>\n",
       "      <td>0.785053</td>\n",
       "      <td>0.003571</td>\n",
       "      <td>23</td>\n",
       "    </tr>\n",
       "    <tr>\n",
       "      <th>1</th>\n",
       "      <td>207.480741</td>\n",
       "      <td>4.169109</td>\n",
       "      <td>3.353189</td>\n",
       "      <td>0.526870</td>\n",
       "      <td>10</td>\n",
       "      <td>25</td>\n",
       "      <td>median</td>\n",
       "      <td>{'randomforestclassifier__max_depth': 10, 'ran...</td>\n",
       "      <td>0.782796</td>\n",
       "      <td>0.787032</td>\n",
       "      <td>0.790400</td>\n",
       "      <td>0.785100</td>\n",
       "      <td>0.779938</td>\n",
       "      <td>0.785053</td>\n",
       "      <td>0.003571</td>\n",
       "      <td>23</td>\n",
       "    </tr>\n",
       "    <tr>\n",
       "      <th>2</th>\n",
       "      <td>382.177184</td>\n",
       "      <td>11.524639</td>\n",
       "      <td>6.541989</td>\n",
       "      <td>0.393235</td>\n",
       "      <td>10</td>\n",
       "      <td>50</td>\n",
       "      <td>mean</td>\n",
       "      <td>{'randomforestclassifier__max_depth': 10, 'ran...</td>\n",
       "      <td>0.784852</td>\n",
       "      <td>0.788326</td>\n",
       "      <td>0.795700</td>\n",
       "      <td>0.793715</td>\n",
       "      <td>0.787454</td>\n",
       "      <td>0.790009</td>\n",
       "      <td>0.004051</td>\n",
       "      <td>21</td>\n",
       "    </tr>\n",
       "    <tr>\n",
       "      <th>3</th>\n",
       "      <td>406.040335</td>\n",
       "      <td>24.604498</td>\n",
       "      <td>6.270956</td>\n",
       "      <td>0.405076</td>\n",
       "      <td>10</td>\n",
       "      <td>50</td>\n",
       "      <td>median</td>\n",
       "      <td>{'randomforestclassifier__max_depth': 10, 'ran...</td>\n",
       "      <td>0.784852</td>\n",
       "      <td>0.788326</td>\n",
       "      <td>0.795700</td>\n",
       "      <td>0.793715</td>\n",
       "      <td>0.787454</td>\n",
       "      <td>0.790009</td>\n",
       "      <td>0.004051</td>\n",
       "      <td>21</td>\n",
       "    </tr>\n",
       "    <tr>\n",
       "      <th>4</th>\n",
       "      <td>599.674848</td>\n",
       "      <td>16.841784</td>\n",
       "      <td>9.083896</td>\n",
       "      <td>0.588395</td>\n",
       "      <td>10</td>\n",
       "      <td>75</td>\n",
       "      <td>mean</td>\n",
       "      <td>{'randomforestclassifier__max_depth': 10, 'ran...</td>\n",
       "      <td>0.788025</td>\n",
       "      <td>0.794264</td>\n",
       "      <td>0.796958</td>\n",
       "      <td>0.794672</td>\n",
       "      <td>0.788553</td>\n",
       "      <td>0.792494</td>\n",
       "      <td>0.003558</td>\n",
       "      <td>19</td>\n",
       "    </tr>\n",
       "  </tbody>\n",
       "</table>\n",
       "</div>"
      ],
      "text/plain": [
       "   mean_fit_time  std_fit_time  mean_score_time  std_score_time  \\\n",
       "0     188.543082      2.053636         3.985480        0.647190   \n",
       "1     207.480741      4.169109         3.353189        0.526870   \n",
       "2     382.177184     11.524639         6.541989        0.393235   \n",
       "3     406.040335     24.604498         6.270956        0.405076   \n",
       "4     599.674848     16.841784         9.083896        0.588395   \n",
       "\n",
       "  param_randomforestclassifier__max_depth  \\\n",
       "0                                      10   \n",
       "1                                      10   \n",
       "2                                      10   \n",
       "3                                      10   \n",
       "4                                      10   \n",
       "\n",
       "  param_randomforestclassifier__n_estimators param_simpleimputer__strategy  \\\n",
       "0                                         25                          mean   \n",
       "1                                         25                        median   \n",
       "2                                         50                          mean   \n",
       "3                                         50                        median   \n",
       "4                                         75                          mean   \n",
       "\n",
       "                                              params  split0_test_score  \\\n",
       "0  {'randomforestclassifier__max_depth': 10, 'ran...           0.782796   \n",
       "1  {'randomforestclassifier__max_depth': 10, 'ran...           0.782796   \n",
       "2  {'randomforestclassifier__max_depth': 10, 'ran...           0.784852   \n",
       "3  {'randomforestclassifier__max_depth': 10, 'ran...           0.784852   \n",
       "4  {'randomforestclassifier__max_depth': 10, 'ran...           0.788025   \n",
       "\n",
       "   split1_test_score  split2_test_score  split3_test_score  split4_test_score  \\\n",
       "0           0.787032           0.790400           0.785100           0.779938   \n",
       "1           0.787032           0.790400           0.785100           0.779938   \n",
       "2           0.788326           0.795700           0.793715           0.787454   \n",
       "3           0.788326           0.795700           0.793715           0.787454   \n",
       "4           0.794264           0.796958           0.794672           0.788553   \n",
       "\n",
       "   mean_test_score  std_test_score  rank_test_score  \n",
       "0         0.785053        0.003571               23  \n",
       "1         0.785053        0.003571               23  \n",
       "2         0.790009        0.004051               21  \n",
       "3         0.790009        0.004051               21  \n",
       "4         0.792494        0.003558               19  "
      ]
     },
     "execution_count": 19,
     "metadata": {},
     "output_type": "execute_result"
    }
   ],
   "source": [
    "cv_results = pd.DataFrame(model.cv_results_)\n",
    "cv_results.head(5)"
   ]
  },
  {
   "cell_type": "code",
   "execution_count": 20,
   "id": "3bd8a7e7",
   "metadata": {},
   "outputs": [
    {
     "data": {
      "text/plain": [
       "{'randomforestclassifier__max_depth': 40,\n",
       " 'randomforestclassifier__n_estimators': 75,\n",
       " 'simpleimputer__strategy': 'mean'}"
      ]
     },
     "execution_count": 20,
     "metadata": {},
     "output_type": "execute_result"
    }
   ],
   "source": [
    "#Extracting the best hyperparameters\n",
    "model.best_params_"
   ]
  },
  {
   "cell_type": "code",
   "execution_count": 21,
   "id": "db38c2e6",
   "metadata": {},
   "outputs": [
    {
     "name": "stdout",
     "output_type": "stream",
     "text": [
      "Model Training Accuracy: 0.8936\n",
      "Model Test Accuracy: 0.8691\n"
     ]
    }
   ],
   "source": [
    "acc_train = model.score(X_train, y_train)\n",
    "acc_test = model.score(X_test, y_test)\n",
    "\n",
    "print(\"Model Training Accuracy:\", round(acc_train, 4))\n",
    "print(\"Model Test Accuracy:\", round(acc_test, 4))"
   ]
  },
  {
   "cell_type": "code",
   "execution_count": 22,
   "id": "400c283b",
   "metadata": {},
   "outputs": [
    {
     "data": {
      "image/png": "[encoded data removed]",
      "text/plain": [
       "<Figure size 640x480 with 2 Axes>"
      ]
     },
     "metadata": {},
     "output_type": "display_data"
    }
   ],
   "source": [
    "ConfusionMatrixDisplay.from_estimator(model, X_test, y_test);"
   ]
  },
  {
   "cell_type": "code",
   "execution_count": 23,
   "id": "ba93c284",
   "metadata": {},
   "outputs": [
    {
     "name": "stdout",
     "output_type": "stream",
     "text": [
      "              precision    recall  f1-score   support\n",
      "\n",
      "           0       0.97      0.89      0.93     35208\n",
      "           1       0.05      0.18      0.08      1164\n",
      "\n",
      "    accuracy                           0.87     36372\n",
      "   macro avg       0.51      0.54      0.51     36372\n",
      "weighted avg       0.94      0.87      0.90     36372\n",
      "\n"
     ]
    }
   ],
   "source": [
    "class_report = classification_report(y_test, model.predict(X_test))\n",
    "print(class_report)"
   ]
  },
  {
   "cell_type": "code",
   "execution_count": 24,
   "id": "7292e9d9",
   "metadata": {},
   "outputs": [],
   "source": [
    "#Get important features\n",
    "features = X_train_over.columns \n",
    "\n",
    "#Extract importances from model\n",
    "importances = model.best_estimator_.named_steps['randomforestclassifier'].feature_importances_\n",
    "\n",
    "#Create a series with feature names and importances \n",
    "feat_imp = pd.Series(importances, index=features).sort_values()"
   ]
  },
  {
   "cell_type": "code",
   "execution_count": 25,
   "id": "11b90c3f",
   "metadata": {},
   "outputs": [
    {
     "data": {
      "text/plain": [
       "Text(0.5, 1.0, 'Feature Importance')"
      ]
     },
     "execution_count": 25,
     "metadata": {},
     "output_type": "execute_result"
    },
    {
     "data": {
      "image/png": "[encoded data removed]",
      "text/plain": [
       "<Figure size 640x480 with 1 Axes>"
      ]
     },
     "metadata": {},
     "output_type": "display_data"
    }
   ],
   "source": [
    "import matplotlib.pyplot as plt\n",
    "\n",
    "#Plot the important features\n",
    "feat_imp.tail(20).plot(kind = \"barh\")\n",
    "plt.xlabel(\"Gini Importance\")\n",
    "plt.ylabel(\"Features\")\n",
    "plt.title(\"Feature Importance\")"
   ]
  },
  {
   "cell_type": "code",
   "execution_count": 26,
   "id": "8cfd11e8",
   "metadata": {},
   "outputs": [],
   "source": [
    "import ipywidgets as widgets\n",
    "from ipywidgets import interact\n",
    "\n",
    "def make_cnf_matrix(threshold):\n",
    "    \n",
    "    y_pred_proba = model.predict_proba(X_test)[:, -1]\n",
    "    y_pred = y_pred_proba >= threshold\n",
    "    conf_matrix = confusion_matrix(y_test, y_pred)\n",
    "    TN, FP, FN, TP = conf_matrix.ravel()\n",
    "    \n",
    "    ConfusionMatrixDisplay.from_predictions(y_test, y_pred, colorbar = False)"
   ]
  },
  {
   "cell_type": "code",
   "execution_count": 27,
   "id": "c6bd4c23",
   "metadata": {},
   "outputs": [
    {
     "data": {
      "application/vnd.jupyter.widget-view+json": {
       "model_id": "01197b5d4be543afa958990f1d072a9d",
       "version_major": 2,
       "version_minor": 0
      },
      "text/plain": [
       "interactive(children=(FloatSlider(value=0.2, description='threshold', max=1.0, step=0.2), Output()), _dom_clas…"
      ]
     },
     "metadata": {},
     "output_type": "display_data"
    }
   ],
   "source": [
    "thresh_widget = widgets.FloatSlider(min = 0, max = 1, value = 0.2, step = 0.2)\n",
    "interact(make_cnf_matrix, threshold = thresh_widget);"
   ]
  },
  {
   "cell_type": "code",
   "execution_count": 28,
   "id": "f5660f82",
   "metadata": {},
   "outputs": [
    {
     "name": "stdout",
     "output_type": "stream",
     "text": [
      "Best Threshold: 1.0\n",
      "Max Expected Value: -182850\n"
     ]
    }
   ],
   "source": [
    "#Calculating for best threshold value \n",
    "best_threshold = None \n",
    "max_expected_value = float('-inf')\n",
    "\n",
    "for threshold in np.linspace(0, 1, 100): # Using 100 thresholds between 0 and 1\n",
    "    \n",
    "    y_pred_proba = model.predict_proba(X_test)[:, -1]\n",
    "    y_pred = y_pred_proba >= threshold\n",
    "    \n",
    "    #Compute confusion matrix\n",
    "    conf_matrix = confusion_matrix(y_test, y_pred)\n",
    "    TN, FP, FN, TP = conf_matrix.ravel()\n",
    "    \n",
    "    #Define benefit and cost values\n",
    "    B_TP = 400\n",
    "    B_TN = 0\n",
    "    C_FP = -200\n",
    "    C_FN = -150\n",
    "    \n",
    "    #Define the benefit and cost values\n",
    "    EV = TP* B_TP + TN * B_TN + FP * C_FP + FN * C_FN\n",
    "    \n",
    "    #Check if this threshold gives a higher expected values\n",
    "    if EV > max_expected_value:\n",
    "        max_expected_value = EV \n",
    "        best_threshold = threshold\n",
    "        \n",
    "print(\"Best Threshold:\", best_threshold)\n",
    "print(\"Max Expected Value:\", max_expected_value)"
   ]
  },
  {
   "cell_type": "code",
   "execution_count": null,
   "id": "20c5f059",
   "metadata": {},
   "outputs": [],
   "source": []
  }
 ],
 "metadata": {
  "kernelspec": {
   "display_name": "Python 3 (ipykernel)",
   "language": "python",
   "name": "python3"
  },
  "language_info": {
   "codemirror_mode": {
    "name": "ipython",
    "version": 3
   },
   "file_extension": ".py",
   "mimetype": "text/x-python",
   "name": "python",
   "nbconvert_exporter": "python",
   "pygments_lexer": "ipython3",
   "version": "3.11.5"
  }
 },
 "nbformat": 4,
 "nbformat_minor": 5
}
